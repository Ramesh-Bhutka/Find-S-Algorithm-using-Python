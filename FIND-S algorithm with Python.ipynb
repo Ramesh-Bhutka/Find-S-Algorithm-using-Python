{
 "cells": [
  {
   "cell_type": "code",
   "execution_count": 6,
   "metadata": {
    "scrolled": true
   },
   "outputs": [
    {
     "name": "stdout",
     "output_type": "stream",
     "text": [
      "RAMESH BHUTKA\n",
      "SAP ID:-53004190003\n",
      "2021-01-13 20:32:37.834496\n",
      "     Day   Outlook temperature Humidity    Wind Play tennis\n",
      "0  Sunny  Overcast         Hot     High    Weak         Yes\n",
      "1  Rainy      Rain        Cool   Normal  Strong          No\n",
      "2  Sunny  Overcast        Cool   Normal    Weak         Yes \n",
      "\n",
      "\n",
      " The attributes are: \n",
      " [['Sunny' 'Overcast' 'Hot' 'High' 'Weak']\n",
      " ['Rainy' 'Rain' 'Cool' 'Normal' 'Strong']\n",
      " ['Sunny' 'Overcast' 'Cool' 'Normal' 'Weak']]\n",
      "\n",
      " The target is:  ['Yes' 'No' 'Yes']\n",
      "\n",
      " The final hypothesis is: ['Sunny' 'Overcast' '?' '?' 'Weak']\n"
     ]
    }
   ],
   "source": [
    "import pandas as pd\n",
    "import numpy as np\n",
    "import datetime\n",
    "\n",
    "print(\"RAMESH BHUTKA\")\n",
    "print(\"SAP ID:-53004190003\")\n",
    "print(datetime.datetime.now())\n",
    " \n",
    "#to read the data in the csv file\n",
    "df = pd.read_csv(\"C:/Users/User/ML codes/ws.csv\")\n",
    "print(df,\"\\n\")\n",
    " \n",
    "#making an array of all the attributes\n",
    "d = np.array(df)[:,:-1]\n",
    "print(\"\\n The attributes are: \\n\",d)\n",
    " \n",
    "#segragating the target that has positive and negative examples\n",
    "target = np.array(df)[:,-1]\n",
    "print(\"\\n The target is: \",target)\n",
    " \n",
    "#training function to implement find-s algorithm\n",
    "def train(c,t):\n",
    "    for i, val in enumerate(t):\n",
    "        if val == \"Yes\":\n",
    "            specific_hypothesis = c[i].copy()\n",
    "            break\n",
    "             \n",
    "    for i, val in enumerate(c):\n",
    "        if t[i] == \"Yes\":\n",
    "            for x in range(len(specific_hypothesis)):\n",
    "                if val[x] != specific_hypothesis[x]:\n",
    "                    specific_hypothesis[x] = '?'\n",
    "                else:\n",
    "                    pass\n",
    "                 \n",
    "    return specific_hypothesis\n",
    " \n",
    "#obtaining the final hypothesis\n",
    "print(\"\\n The final hypothesis is:\",train(d,target))"
   ]
  },
  {
   "cell_type": "code",
   "execution_count": null,
   "metadata": {},
   "outputs": [],
   "source": []
  }
 ],
 "metadata": {
  "kernelspec": {
   "display_name": "Python 3",
   "language": "python",
   "name": "python3"
  },
  "language_info": {
   "codemirror_mode": {
    "name": "ipython",
    "version": 3
   },
   "file_extension": ".py",
   "mimetype": "text/x-python",
   "name": "python",
   "nbconvert_exporter": "python",
   "pygments_lexer": "ipython3",
   "version": "3.8.5"
  }
 },
 "nbformat": 4,
 "nbformat_minor": 4
}
